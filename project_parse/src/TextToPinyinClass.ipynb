{
 "cells": [
  {
   "cell_type": "code",
   "execution_count": 33,
   "metadata": {
    "collapsed": false
   },
   "outputs": [],
   "source": [
    "#encoding = utf8\n",
    "'''\n",
    "Created on 2017年10月13日\n",
    "@author: zhengyuanma\n",
    "'''\n",
    "import pickle\n",
    "import pandas as pd\n",
    "\n",
    "dict_path = \"../data/cedict.pickle\"\n",
    "\n",
    "class Chinesedict():\n",
    "    cedict = {}\n",
    "    myList = []\n",
    "    definitions = {}\n",
    "    df = None\n",
    "    \n",
    "    def __init__(self, dict_path):\n",
    "        f = open(dict_path,\"r\")\n",
    "        self.cedict = pickle.load(f)\n",
    "        f.close()\n",
    "        \n",
    "    def addWordList(self, path_):\n",
    "        self.myList = []\n",
    "        with open(path_) as f:\n",
    "            for line in f:\n",
    "                self.myList.append(line.decode('utf8').rstrip())\n",
    "        \n",
    "        self.definitions = {x : self.cedict.get(x) for x in self.myList}\n",
    "        self.df = pd.DataFrame.from_dict(self.definitions)\n",
    "        self.df= self.df.transpose()\n",
    "        \n",
    "    \n",
    "    def write_csv(self, output_path):\n",
    "        self.df.to_csv(output_path, sep = \"-\", encoding = 'utf8')\n",
    "        "
   ]
  },
  {
   "cell_type": "code",
   "execution_count": 34,
   "metadata": {
    "collapsed": false
   },
   "outputs": [],
   "source": [
    "a = Chinesedict(\"../data/cedict.pickle\")"
   ]
  },
  {
   "cell_type": "code",
   "execution_count": 35,
   "metadata": {
    "collapsed": false
   },
   "outputs": [],
   "source": [
    "a.addWordList('../data/my_words.txt')"
   ]
  },
  {
   "cell_type": "code",
   "execution_count": 36,
   "metadata": {
    "collapsed": false
   },
   "outputs": [
    {
     "data": {
      "text/plain": [
       "[u'\\u90d1\\u91cd\\u5176\\u4e8b',\n",
       " u'\\u5f52\\u6839\\u7ed3\\u8482',\n",
       " u'\\u7528\\u6b66\\u4e4b\\u5730',\n",
       " u'\\u60c5\\u6709\\u53ef\\u539f',\n",
       " u'\\u4e94\\u5927\\u4e09\\u7c97',\n",
       " u'\\u559c\\u51fa\\u671b\\u5916',\n",
       " u'\\u65e0\\u52a8\\u4e8e\\u8877',\n",
       " u'\\u4e00\\u4e2a\\u841d\\u535c\\u4e00\\u4e2a\\u5751',\n",
       " u'\\u9e21\\u7a9d\\u91cc\\u98de\\u51fa\\u4e86\\u91d1\\u51e4\\u51f0',\n",
       " u'\\u778e\\u63b0',\n",
       " u'\\u95f9\\u51fa\\u4e71\\u5b50',\n",
       " u'\\u8d6b\\u7136',\n",
       " u'\\u6d88\\u9664',\n",
       " u'\\u9a71\\u6563',\n",
       " u'\\u725b\\u903c',\n",
       " u'\\u4e2d\\u56fd',\n",
       " u'\\u571f\\u8c46\\u6ce5']"
      ]
     },
     "execution_count": 36,
     "metadata": {},
     "output_type": "execute_result"
    }
   ],
   "source": [
    "a.myList"
   ]
  },
  {
   "cell_type": "code",
   "execution_count": 37,
   "metadata": {
    "collapsed": false
   },
   "outputs": [
    {
     "data": {
      "text/html": [
       "<div>\n",
       "<table border=\"1\" class=\"dataframe\">\n",
       "  <thead>\n",
       "    <tr style=\"text-align: right;\">\n",
       "      <th></th>\n",
       "      <th>0</th>\n",
       "      <th>1</th>\n",
       "    </tr>\n",
       "  </thead>\n",
       "  <tbody>\n",
       "    <tr>\n",
       "      <th>一个萝卜一个坑</th>\n",
       "      <td>yi1 ge4 luo2 bo5 yi1 ge4 keng1</td>\n",
       "      <td>/lit. every turnip to its hole (idiom)/fig. ea...</td>\n",
       "    </tr>\n",
       "    <tr>\n",
       "      <th>中国</th>\n",
       "      <td>Zhong1 guo2</td>\n",
       "      <td>/China/</td>\n",
       "    </tr>\n",
       "    <tr>\n",
       "      <th>五大三粗</th>\n",
       "      <td>None</td>\n",
       "      <td>None</td>\n",
       "    </tr>\n",
       "    <tr>\n",
       "      <th>喜出望外</th>\n",
       "      <td>xi3 chu1 wang4 wai4</td>\n",
       "      <td>/to be pleased beyond one's expectations (idio...</td>\n",
       "    </tr>\n",
       "    <tr>\n",
       "      <th>土豆泥</th>\n",
       "      <td>tu3 dou4 ni2</td>\n",
       "      <td>/mashed potato/</td>\n",
       "    </tr>\n",
       "    <tr>\n",
       "      <th>归根结蒂</th>\n",
       "      <td>gui1 gen1 jie2 di4</td>\n",
       "      <td>/ultimately/in the final analysis/after all/wh...</td>\n",
       "    </tr>\n",
       "    <tr>\n",
       "      <th>情有可原</th>\n",
       "      <td>qing2 you3 ke3 yuan2</td>\n",
       "      <td>/pardonable (of interruption, misunderstanding...</td>\n",
       "    </tr>\n",
       "    <tr>\n",
       "      <th>无动于衷</th>\n",
       "      <td>wu2 dong4 yu2 zhong1</td>\n",
       "      <td>/aloof/indifferent/unconcerned/</td>\n",
       "    </tr>\n",
       "    <tr>\n",
       "      <th>消除</th>\n",
       "      <td>xiao1 chu2</td>\n",
       "      <td>/to eliminate/to remove/</td>\n",
       "    </tr>\n",
       "    <tr>\n",
       "      <th>牛逼</th>\n",
       "      <td>niu2 bi1</td>\n",
       "      <td>/variant of 牛屄[niu2 bi1]/</td>\n",
       "    </tr>\n",
       "    <tr>\n",
       "      <th>用武之地</th>\n",
       "      <td>yong4 wu3 zhi1 di4</td>\n",
       "      <td>/ample scope for abilities/favorable position ...</td>\n",
       "    </tr>\n",
       "    <tr>\n",
       "      <th>瞎掰</th>\n",
       "      <td>xia1 bai1</td>\n",
       "      <td>/(coll.) to talk nonsense/to fool around/</td>\n",
       "    </tr>\n",
       "    <tr>\n",
       "      <th>赫然</th>\n",
       "      <td>he4 ran2</td>\n",
       "      <td>/with astonishment/with a shock/awe-inspiringl...</td>\n",
       "    </tr>\n",
       "    <tr>\n",
       "      <th>郑重其事</th>\n",
       "      <td>zheng4 zhong4 qi2 shi4</td>\n",
       "      <td>/serious about the matter/</td>\n",
       "    </tr>\n",
       "    <tr>\n",
       "      <th>闹出乱子</th>\n",
       "      <td>None</td>\n",
       "      <td>None</td>\n",
       "    </tr>\n",
       "    <tr>\n",
       "      <th>驱散</th>\n",
       "      <td>qu1 san4</td>\n",
       "      <td>/to disperse/to break up/</td>\n",
       "    </tr>\n",
       "    <tr>\n",
       "      <th>鸡窝里飞出了金凤凰</th>\n",
       "      <td>None</td>\n",
       "      <td>None</td>\n",
       "    </tr>\n",
       "  </tbody>\n",
       "</table>\n",
       "</div>"
      ],
      "text/plain": [
       "                                        0  \\\n",
       "一个萝卜一个坑    yi1 ge4 luo2 bo5 yi1 ge4 keng1   \n",
       "中国                            Zhong1 guo2   \n",
       "五大三粗                                 None   \n",
       "喜出望外                  xi3 chu1 wang4 wai4   \n",
       "土豆泥                          tu3 dou4 ni2   \n",
       "归根结蒂                   gui1 gen1 jie2 di4   \n",
       "情有可原                 qing2 you3 ke3 yuan2   \n",
       "无动于衷                 wu2 dong4 yu2 zhong1   \n",
       "消除                             xiao1 chu2   \n",
       "牛逼                               niu2 bi1   \n",
       "用武之地                   yong4 wu3 zhi1 di4   \n",
       "瞎掰                              xia1 bai1   \n",
       "赫然                               he4 ran2   \n",
       "郑重其事               zheng4 zhong4 qi2 shi4   \n",
       "闹出乱子                                 None   \n",
       "驱散                               qu1 san4   \n",
       "鸡窝里飞出了金凤凰                            None   \n",
       "\n",
       "                                                           1  \n",
       "一个萝卜一个坑    /lit. every turnip to its hole (idiom)/fig. ea...  \n",
       "中国                                                   /China/  \n",
       "五大三粗                                                    None  \n",
       "喜出望外       /to be pleased beyond one's expectations (idio...  \n",
       "土豆泥                                          /mashed potato/  \n",
       "归根结蒂       /ultimately/in the final analysis/after all/wh...  \n",
       "情有可原       /pardonable (of interruption, misunderstanding...  \n",
       "无动于衷                         /aloof/indifferent/unconcerned/  \n",
       "消除                                  /to eliminate/to remove/  \n",
       "牛逼                                 /variant of 牛屄[niu2 bi1]/  \n",
       "用武之地       /ample scope for abilities/favorable position ...  \n",
       "瞎掰                 /(coll.) to talk nonsense/to fool around/  \n",
       "赫然         /with astonishment/with a shock/awe-inspiringl...  \n",
       "郑重其事                              /serious about the matter/  \n",
       "闹出乱子                                                    None  \n",
       "驱散                                 /to disperse/to break up/  \n",
       "鸡窝里飞出了金凤凰                                               None  "
      ]
     },
     "execution_count": 37,
     "metadata": {},
     "output_type": "execute_result"
    }
   ],
   "source": [
    "a.df"
   ]
  },
  {
   "cell_type": "code",
   "execution_count": 32,
   "metadata": {
    "collapsed": false
   },
   "outputs": [],
   "source": [
    "a.write_csv('../output/my_dictionary_ab.txt')"
   ]
  },
  {
   "cell_type": "code",
   "execution_count": null,
   "metadata": {
    "collapsed": true
   },
   "outputs": [],
   "source": []
  }
 ],
 "metadata": {
  "anaconda-cloud": {},
  "kernelspec": {
   "display_name": "Python [conda root]",
   "language": "python",
   "name": "conda-root-py"
  },
  "language_info": {
   "codemirror_mode": {
    "name": "ipython",
    "version": 2
   },
   "file_extension": ".py",
   "mimetype": "text/x-python",
   "name": "python",
   "nbconvert_exporter": "python",
   "pygments_lexer": "ipython2",
   "version": "2.7.12"
  }
 },
 "nbformat": 4,
 "nbformat_minor": 1
}
