{
 "cells": [
  {
   "cell_type": "code",
   "execution_count": 37,
   "metadata": {
    "collapsed": false
   },
   "outputs": [],
   "source": [
    "#encoding = utf8\n",
    "'''\n",
    "Created on 2017年10月13日\n",
    "@author: zhengyuanma\n",
    "'''\n",
    "import pickle\n",
    "import pandas as pd\n",
    "\n",
    "dict_path = \"../data/cedict.pickle\"\n",
    "\n",
    "class Chinesedict():\n",
    "    cedict = {}\n",
    "    myList = []\n",
    "    definitions = {}\n",
    "    df = None\n",
    "    \n",
    "    def __init__(self, dict_path):\n",
    "        f = open(dict_path,\"r\")\n",
    "        self.cedict = pickle.load(f)\n",
    "        f.close()\n",
    "        \n",
    "    def addWordList(self, path_):\n",
    "        with open(path_) as f:\n",
    "            for line in f:\n",
    "                self.myList.append(line.decode('utf8').rstrip())\n",
    "        \n",
    "        self.definitions = {x : self.cedict.get(x) for x in self.myList}\n",
    "        self.df = pd.DataFrame.from_dict(self.definitions)\n",
    "        self.df= self.df.transpose()\n",
    "        \n",
    "    \n",
    "    def write_csv(self, output_path):\n",
    "        self.df.to_csv(output_path, sep = \"-\", encoding = 'utf8')\n",
    "        "
   ]
  },
  {
   "cell_type": "code",
   "execution_count": 38,
   "metadata": {
    "collapsed": false
   },
   "outputs": [],
   "source": [
    "a = Chinesedict(\"../data/cedict.pickle\")"
   ]
  },
  {
   "cell_type": "code",
   "execution_count": 39,
   "metadata": {
    "collapsed": false
   },
   "outputs": [],
   "source": [
    "a.addWordList('../data/my_words.txt')"
   ]
  },
  {
   "cell_type": "code",
   "execution_count": 41,
   "metadata": {
    "collapsed": false
   },
   "outputs": [],
   "source": [
    "a.write_csv('../output/my_dictionary_a.txt')"
   ]
  },
  {
   "cell_type": "code",
   "execution_count": null,
   "metadata": {
    "collapsed": true
   },
   "outputs": [],
   "source": []
  }
 ],
 "metadata": {
  "anaconda-cloud": {},
  "kernelspec": {
   "display_name": "Python [conda root]",
   "language": "python",
   "name": "conda-root-py"
  },
  "language_info": {
   "codemirror_mode": {
    "name": "ipython",
    "version": 2
   },
   "file_extension": ".py",
   "mimetype": "text/x-python",
   "name": "python",
   "nbconvert_exporter": "python",
   "pygments_lexer": "ipython2",
   "version": "2.7.12"
  }
 },
 "nbformat": 4,
 "nbformat_minor": 1
}
