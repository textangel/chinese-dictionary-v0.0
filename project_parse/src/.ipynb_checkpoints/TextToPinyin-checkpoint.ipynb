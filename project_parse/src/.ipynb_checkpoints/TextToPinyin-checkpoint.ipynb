{
 "cells": [
  {
   "cell_type": "code",
   "execution_count": 1,
   "metadata": {
    "collapsed": false
   },
   "outputs": [],
   "source": [
    "# coding: utf8\n",
    "'''\n",
    "Created on 2017年10月13日\n",
    "\n",
    "@author: zhengyuanma\n",
    "'''\n",
    "from dict import initDict\n",
    "dictpath = '../data/cedict_csv.csv'"
   ]
  },
  {
   "cell_type": "code",
   "execution_count": 29,
   "metadata": {
    "collapsed": true
   },
   "outputs": [],
   "source": [
    "def initDict(dictpath_):\n",
    "    cedict = pd.read_csv(dictpath_, sep='\\s*∆\\s*', names = ['trad', 'simp','pron','def'])\n",
    "    cedict_lookup = {}\n",
    "    for i in range(cedict.shape[0]):\n",
    "        row = cedict.loc[i]\n",
    "        simp = row['simp'].decode('utf8')\n",
    "        pron = row['pron'].decode('utf8')\n",
    "        definition = row['def'].decode('utf8')\n",
    "        cedict_lookup[simp] = [pron, definition]\n",
    "    return(cedict_lookup)"
   ]
  },
  {
   "cell_type": "code",
   "execution_count": 25,
   "metadata": {
    "collapsed": false
   },
   "outputs": [],
   "source": [
    "def getWords(path_):\n",
    "    myList = []\n",
    "    with open(path_) as f:\n",
    "        for line in f:\n",
    "            myList.append(line.decode('utf8').rstrip())\n",
    "    return(myList)"
   ]
  },
  {
   "cell_type": "code",
   "execution_count": 26,
   "metadata": {
    "collapsed": false
   },
   "outputs": [],
   "source": [
    "#Note: default python behavior doesnt print the text, just the unicode reprensetaitons\n",
    "myVocabList = '../data/my_words.txt'\n",
    "myVocabWords = getWords(myVocabList)"
   ]
  },
  {
   "cell_type": "code",
   "execution_count": 2,
   "metadata": {
    "collapsed": false
   },
   "outputs": [
    {
     "name": "stderr",
     "output_type": "stream",
     "text": [
      "dict.py:6: ParserWarning: Falling back to the 'python' engine because the 'c' engine does not support regex separators (separators > 1 char and different from '\\s+' are interpreted as regex); you can avoid this warning by specifying engine='python'.\n",
      "  cedict = pandas.read_csv(dictpath_, sep='\\s*∆\\s*', names = ['trad', 'simp','pron','def'])\n"
     ]
    }
   ],
   "source": [
    "cedict = initDict(dictpath)"
   ]
  },
  {
   "cell_type": "code",
   "execution_count": 39,
   "metadata": {
    "collapsed": true
   },
   "outputs": [],
   "source": [
    "definitions = {x : cedict.get(x) for x in myVocabWords}\n",
    "df = pd.DataFrame.from_dict(definitions)\n",
    "df= df.transpose()"
   ]
  },
  {
   "cell_type": "code",
   "execution_count": 21,
   "metadata": {
    "collapsed": false
   },
   "outputs": [],
   "source": [
    "df.to_csv('../output/chinese_output.txt', sep = \"-\", encoding = 'utf8')"
   ]
  },
  {
   "cell_type": "code",
   "execution_count": null,
   "metadata": {
    "collapsed": true
   },
   "outputs": [],
   "source": []
  }
 ],
 "metadata": {
  "anaconda-cloud": {},
  "kernelspec": {
   "display_name": "Python [conda root]",
   "language": "python",
   "name": "conda-root-py"
  },
  "language_info": {
   "codemirror_mode": {
    "name": "ipython",
    "version": 2
   },
   "file_extension": ".py",
   "mimetype": "text/x-python",
   "name": "python",
   "nbconvert_exporter": "python",
   "pygments_lexer": "ipython2",
   "version": "2.7.12"
  }
 },
 "nbformat": 4,
 "nbformat_minor": 1
}
